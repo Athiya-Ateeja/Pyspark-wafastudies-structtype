{
 "cells": [
  {
   "cell_type": "code",
   "execution_count": 0,
   "metadata": {
    "application/vnd.databricks.v1+cell": {
     "cellMetadata": {
      "byteLimit": 2048000,
      "rowLimit": 10000
     },
     "inputWidgets": {},
     "nuid": "64c15fef-3df8-4c2c-a851-5d529d33fe89",
     "showTitle": false,
     "title": ""
    }
   },
   "outputs": [
    {
     "output_type": "stream",
     "name": "stdout",
     "output_type": "stream",
     "text": [
      "+---+------+----+\n| _1|    _2|  _3|\n+---+------+----+\n|  1|Maheer|3000|\n|  2|  wafa|4000|\n+---+------+----+\n\nroot\n |-- _1: long (nullable = true)\n |-- _2: string (nullable = true)\n |-- _3: long (nullable = true)\n\n"
     ]
    }
   ],
   "source": [
    "data = [(1 , 'Maheer' , 3000),\n",
    "        (2, 'wafa' , 4000)]\n",
    "df = spark.createDataFrame(data = data)\n",
    "df.show()\n",
    "df.printSchema()"
   ]
  },
  {
   "cell_type": "code",
   "execution_count": 0,
   "metadata": {
    "application/vnd.databricks.v1+cell": {
     "cellMetadata": {
      "byteLimit": 2048000,
      "rowLimit": 10000
     },
     "inputWidgets": {},
     "nuid": "60bb8dc9-364c-4768-981e-ce31f71cc53f",
     "showTitle": false,
     "title": ""
    }
   },
   "outputs": [],
   "source": [
    "from pyspark.sql.types import StructField,StructType,StringType,IntegerType"
   ]
  },
  {
   "cell_type": "code",
   "execution_count": 0,
   "metadata": {
    "application/vnd.databricks.v1+cell": {
     "cellMetadata": {
      "byteLimit": 2048000,
      "rowLimit": 10000
     },
     "inputWidgets": {},
     "nuid": "8faaa3b5-2cd0-4265-b23a-af21b3265422",
     "showTitle": false,
     "title": ""
    }
   },
   "outputs": [],
   "source": [
    "schema = StructType([StructField(name = 'ID' ,dataType = IntegerType()),\\\n",
    "                    StructField(name = 'Name' , dataType = StringType()),\\\n",
    "                    StructField (name = 'Salary' ,dataType =StringType())])"
   ]
  },
  {
   "cell_type": "code",
   "execution_count": 0,
   "metadata": {
    "application/vnd.databricks.v1+cell": {
     "cellMetadata": {
      "byteLimit": 2048000,
      "rowLimit": 10000
     },
     "inputWidgets": {},
     "nuid": "9c500382-92d8-451f-8db1-921a78501856",
     "showTitle": false,
     "title": ""
    }
   },
   "outputs": [
    {
     "output_type": "stream",
     "name": "stdout",
     "output_type": "stream",
     "text": [
      "+---+------+------+\n| ID|  Name|Salary|\n+---+------+------+\n|  1|Maheer|  3000|\n|  2|  wafa|  4000|\n+---+------+------+\n\nroot\n |-- ID: integer (nullable = true)\n |-- Name: string (nullable = true)\n |-- Salary: string (nullable = true)\n\n"
     ]
    }
   ],
   "source": [
    "df = spark.createDataFrame(data = data,schema = schema )\n",
    "df.show()\n",
    "df.printSchema()"
   ]
  }
 ],
 "metadata": {
  "application/vnd.databricks.v1+notebook": {
   "dashboards": [],
   "language": "python",
   "notebookMetadata": {
    "pythonIndentUnit": 4
   },
   "notebookName": "StructType & StructField",
   "widgets": {}
  }
 },
 "nbformat": 4,
 "nbformat_minor": 0
}
